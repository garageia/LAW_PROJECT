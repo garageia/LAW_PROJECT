{
 "cells": [
  {
   "cell_type": "code",
   "execution_count": 5,
   "id": "6a2d1854",
   "metadata": {},
   "outputs": [
    {
     "name": "stdout",
     "output_type": "stream",
     "text": [
      "Defaulting to user installation because normal site-packages is not writeable\n",
      "Collecting python-poppler\n",
      "  Downloading python_poppler-0.4.1.tar.gz (138 kB)\n",
      "     ------------------------------------ 138.5/138.5 kB 146.6 kB/s eta 0:00:00\n",
      "  Installing build dependencies: started\n",
      "  Installing build dependencies: finished with status 'done'\n",
      "  Getting requirements to build wheel: started\n",
      "  Getting requirements to build wheel: finished with status 'done'\n",
      "  Installing backend dependencies: started\n",
      "  Installing backend dependencies: finished with status 'done'\n",
      "  Preparing metadata (pyproject.toml): started\n",
      "  Preparing metadata (pyproject.toml): finished with status 'error'\n"
     ]
    },
    {
     "name": "stderr",
     "output_type": "stream",
     "text": [
      "  error: subprocess-exited-with-error\n",
      "  \n",
      "  Preparing metadata (pyproject.toml) did not run successfully.\n",
      "  exit code: 1\n",
      "  \n",
      "  [20 lines of output]\n",
      "  + meson setup C:\\Users\\lenovo\\AppData\\Local\\Temp\\pip-install-kxhfdkyh\\python-poppler_e63d1e66bc8f4303ae9cac455c2eb387 C:\\Users\\lenovo\\AppData\\Local\\Temp\\pip-install-kxhfdkyh\\python-poppler_e63d1e66bc8f4303ae9cac455c2eb387\\.mesonpy-8ghinf34\\build -Dbuildtype=release -Db_ndebug=if-release -Db_vscrt=md --native-file=C:\\Users\\lenovo\\AppData\\Local\\Temp\\pip-install-kxhfdkyh\\python-poppler_e63d1e66bc8f4303ae9cac455c2eb387\\.mesonpy-8ghinf34\\build\\meson-python-native-file.ini\n",
      "  The Meson build system\n",
      "  Version: 1.1.1\n",
      "  Source dir: C:\\Users\\lenovo\\AppData\\Local\\Temp\\pip-install-kxhfdkyh\\python-poppler_e63d1e66bc8f4303ae9cac455c2eb387\n",
      "  Build dir: C:\\Users\\lenovo\\AppData\\Local\\Temp\\pip-install-kxhfdkyh\\python-poppler_e63d1e66bc8f4303ae9cac455c2eb387\\.mesonpy-8ghinf34\\build\n",
      "  Build type: native build\n",
      "  Project name: python-poppler\n",
      "  Project version: 0.4.1\n",
      "  WARNING: Failed to activate VS environment: Could not parse vswhere.exe output\n",
      "  \n",
      "  ..\\..\\meson.build:1:0: ERROR: Unknown compiler(s): [['icl'], ['cl'], ['c++'], ['g++'], ['clang++'], ['clang-cl']]\n",
      "  The following exception(s) were encountered:\n",
      "  Running `icl \"\"` gave \"[WinError 2] Le fichier spécifié est introuvable\"\n",
      "  Running `cl /?` gave \"[WinError 2] Le fichier spécifié est introuvable\"\n",
      "  Running `c++ --version` gave \"[WinError 2] Le fichier spécifié est introuvable\"\n",
      "  Running `g++ --version` gave \"[WinError 2] Le fichier spécifié est introuvable\"\n",
      "  Running `clang++ --version` gave \"[WinError 2] Le fichier spécifié est introuvable\"\n",
      "  Running `clang-cl /?` gave \"[WinError 2] Le fichier spécifié est introuvable\"\n",
      "  \n",
      "  A full log can be found at C:\\Users\\lenovo\\AppData\\Local\\Temp\\pip-install-kxhfdkyh\\python-poppler_e63d1e66bc8f4303ae9cac455c2eb387\\.mesonpy-8ghinf34\\build\\meson-logs\\meson-log.txt\n",
      "  [end of output]\n",
      "  \n",
      "  note: This error originates from a subprocess, and is likely not a problem with pip.\n",
      "error: metadata-generation-failed\n",
      "\n",
      "Encountered error while generating package metadata.\n",
      "\n",
      "See above for output.\n",
      "\n",
      "note: This is an issue with the package mentioned above, not pip.\n",
      "hint: See above for details.\n"
     ]
    }
   ],
   "source": [
    "!pip install python-poppler"
   ]
  },
  {
   "cell_type": "code",
   "execution_count": 10,
   "id": "4bd8e807",
   "metadata": {},
   "outputs": [],
   "source": [
    "import os\n",
    "import csv\n",
    "import pytesseract\n",
    "from PIL import Image\n",
    "\n",
    "# Définir le chemin du dossier contenant les fichiers\n",
    "dossier_data = 'C:/Users/lenovo/Desktop/jfk_project/data'\n",
    "\n",
    "# Définir le chemin du fichier CSV de sortie\n",
    "fichier_csv = 'fichier2.csv'\n",
    "\n",
    "# Configuration de pytesseract\n",
    "pytesseract.pytesseract.tesseract_cmd = 'C:\\\\Program Files\\\\Tesseract-OCR\\\\tesseract.exe'\n",
    "\n",
    "# Fonction pour extraire le texte d'une image\n",
    "def extraire_texte(image_path):\n",
    "    image = Image.open(image_path)\n",
    "    texte = pytesseract.image_to_string(image, lang='fra')\n",
    "    return texte.strip()\n",
    "\n",
    "# Liste pour stocker les résultats\n",
    "resultats = []\n",
    "\n",
    "# Parcourir les fichiers du dossier data\n",
    "for fichier in os.listdir(dossier_data):\n",
    "    chemin_fichier = os.path.join(dossier_data, fichier)\n",
    "    if os.path.isfile(chemin_fichier):\n",
    "        extension = os.path.splitext(fichier)[1].lower()\n",
    "        if extension == '.jpg' or extension == '.png':\n",
    "            texte = extraire_texte(chemin_fichier)\n",
    "            resultats.append(texte)\n",
    "        elif extension == '.pdf':\n",
    "            # Convertir le PDF en images et extraire le texte de chaque image\n",
    "            images_pdf = convertir_pdf_en_images(chemin_fichier)  # Remplacez cette fonction par votre méthode de conversion PDF vers images\n",
    "            for image_pdf in images_pdf:\n",
    "                texte = extraire_texte(image_pdf)\n",
    "                resultats.append(texte)\n",
    "\n",
    "# Écrire les résultats dans le fichier CSV\n",
    "with open(fichier_csv, 'w', newline='', encoding='utf-8') as csv_file:\n",
    "    writer = csv.writer(csv_file)\n",
    "    writer.writerow(['Texte'])  # Écrire l'en-tête du fichier CSV\n",
    "    for resultat in resultats:\n",
    "        writer.writerow([resultat])\n"
   ]
  },
  {
   "cell_type": "code",
   "execution_count": null,
   "id": "495557d9",
   "metadata": {},
   "outputs": [],
   "source": []
  }
 ],
 "metadata": {
  "kernelspec": {
   "display_name": "Python (TensorFlow)",
   "language": "python",
   "name": "tensorflow"
  },
  "language_info": {
   "codemirror_mode": {
    "name": "ipython",
    "version": 3
   },
   "file_extension": ".py",
   "mimetype": "text/x-python",
   "name": "python",
   "nbconvert_exporter": "python",
   "pygments_lexer": "ipython3",
   "version": "3.9.13"
  }
 },
 "nbformat": 4,
 "nbformat_minor": 5
}
