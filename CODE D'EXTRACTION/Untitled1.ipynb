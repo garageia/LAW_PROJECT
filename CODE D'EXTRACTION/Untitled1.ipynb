{
 "cells": [
  {
   "cell_type": "code",
   "execution_count": null,
   "id": "b4e30fbd",
   "metadata": {},
   "outputs": [],
   "source": [
    "import csv\n",
    "import matplotlib.pyplot as plt\n",
    "import keras_ocr\n",
    "import glob\n",
    "import os\n",
    "\n",
    "pipeline = keras_ocr.pipeline.Pipeline()\n",
    "\n",
    "# Chemin d'accès au répertoire contenant les fichiers d'images\n",
    "directory = 'C:/Users/lenovo/Desktop/jfk_project/data/'\n",
    "\n",
    "# Récupérer tous les fichiers d'images du répertoire\n",
    "image_files = glob.glob(os.path.join(directory, '*.jpg')) + glob.glob(os.path.join(directory, '*.png'))\n",
    "\n",
    "# Charger les images\n",
    "images = [keras_ocr.tools.read(file) for file in image_files]\n",
    "\n",
    "# Each list of predictions in prediction_groups is a list of (word, box) tuples.\n",
    "prediction_groups = pipeline.recognize(images)\n",
    "\n",
    "# Créer un fichier CSV pour enregistrer le contenu extrait\n",
    "csv_file = 'resultats_extraction.csv'\n",
    "\n",
    "# Ouvrir le fichier CSV en mode écriture\n",
    "with open(csv_file, 'w', newline='', encoding='utf-8') as file:\n",
    "    writer = csv.writer(file)\n",
    "    \n",
    "    # Parcourir les prédictions pour chaque image\n",
    "    for predictions in prediction_groups:\n",
    "        # Extraire le texte de chaque prédiction\n",
    "        texte_image = ' '.join([word for word, _ in predictions])\n",
    "        \n",
    "        # Vérifier si le texte extrait est vide\n",
    "        if texte_image.strip():\n",
    "            # Écrire le texte dans une nouvelle ligne du fichier CSV\n",
    "            writer.writerow([texte_image])\n"
   ]
  },
  {
   "cell_type": "code",
   "execution_count": null,
   "id": "b64bc779",
   "metadata": {},
   "outputs": [],
   "source": [
    "import pandas as pd\n",
    "\n",
    "# Chemin d'accès au fichier CSV\n",
    "csv_file = 'resultats_extraction1.csv'\n",
    "\n",
    "# Charger le fichier CSV dans un DataFrame\n",
    "df = pd.read_csv(csv_file)\n",
    "\n",
    "# Afficher toutes les lignes du DataFrame sans troncature\n",
    "pd.set_option('display.max_rows', None)\n",
    "print(df)\n"
   ]
  },
  {
   "cell_type": "code",
   "execution_count": null,
   "id": "77771e88",
   "metadata": {},
   "outputs": [],
   "source": []
  },
  {
   "cell_type": "code",
   "execution_count": null,
   "id": "dd03b60b",
   "metadata": {},
   "outputs": [],
   "source": []
  },
  {
   "cell_type": "code",
   "execution_count": null,
   "id": "c79c1608",
   "metadata": {},
   "outputs": [],
   "source": []
  }
 ],
 "metadata": {
  "kernelspec": {
   "display_name": "Python (TensorFlow)",
   "language": "python",
   "name": "tensorflow"
  },
  "language_info": {
   "codemirror_mode": {
    "name": "ipython",
    "version": 3
   },
   "file_extension": ".py",
   "mimetype": "text/x-python",
   "name": "python",
   "nbconvert_exporter": "python",
   "pygments_lexer": "ipython3",
   "version": "3.9.13"
  }
 },
 "nbformat": 4,
 "nbformat_minor": 5
}
