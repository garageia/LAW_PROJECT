{
 "cells": [
  {
   "cell_type": "code",
   "execution_count": null,
   "id": "8b7cd7c1",
   "metadata": {},
   "outputs": [],
   "source": [
    "import dotenv\n",
    "from langchain.embeddings.openai import OpenAIEmbeddings\n",
    "from langchain.text_splitter import CharacterTextSplitter\n",
    "from langchain.vectorstores import FAISS\n",
    "from langchain.document_loaders.csv_loader import CSVLoader\n",
    "\n",
    "# loads .env file with your OPENAI_API_KEY\n",
    "dotenv.load_dotenv()\n",
    "\n",
    "# CSV from https://gist.github.com/IvanCampos/94576c9746be280cf5b64083c8ea5b4d\n",
    "loader = CSVLoader(\"midjourney-20230505.csv\", csv_args = {\"delimiter\": ','})\n",
    "documents = loader.load()\n",
    "text_splitter = CharacterTextSplitter(chunk_size=1000, chunk_overlap=0)\n",
    "docs = text_splitter.split_documents(documents)\n",
    "\n",
    "faissIndex = FAISS.from_documents(docs, OpenAIEmbeddings())\n",
    "faissIndex.save_local(\"faiss_midjourney_docs\")"
   ]
  }
 ],
 "metadata": {
  "kernelspec": {
   "display_name": "Python (TensorFlow)",
   "language": "python",
   "name": "tensorflow"
  },
  "language_info": {
   "codemirror_mode": {
    "name": "ipython",
    "version": 3
   },
   "file_extension": ".py",
   "mimetype": "text/x-python",
   "name": "python",
   "nbconvert_exporter": "python",
   "pygments_lexer": "ipython3",
   "version": "3.9.13"
  }
 },
 "nbformat": 4,
 "nbformat_minor": 5
}
